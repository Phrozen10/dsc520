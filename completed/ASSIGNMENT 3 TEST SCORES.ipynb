{
 "cells": [
  {
   "cell_type": "markdown",
   "metadata": {},
   "source": [
    "Name: Leonard, DeBoris\n",
    "Date: 2020-09-11\n"
   ]
  },
  {
   "cell_type": "code",
   "execution_count": 1,
   "metadata": {},
   "outputs": [
    {
     "name": "stderr",
     "output_type": "stream",
     "text": [
      "Warning message:\n",
      "\"package 'ggplot2' was built under R version 3.6.3\""
     ]
    }
   ],
   "source": [
    "library(ggplot2)\n",
    "\n",
    "setwd(\"C:/Users/debor/Documents/GitHub/dsc520\")\n",
    "\n",
    "test_scores <- read.csv('data/scores.csv')"
   ]
  },
  {
   "cell_type": "markdown",
   "metadata": {},
   "source": [
    "1. What are the observational units in this study?\n",
    "    ANSWER: There are 2 units. The course taught about Sports and the one using variable data. \n",
    "\n",
    "2. Identify the variables mentioned in the narrative paragraph and determine which are categorical and quantitative?\n",
    "    ANSWER: Categorical = Section\n",
    "            Quantitative = Count & Score\n",
    " "
   ]
  },
  {
   "cell_type": "markdown",
   "metadata": {},
   "source": [
    "3. Create one variable to hold a subset of your data set that contains only the Regular Section and one variable for the Sports Section."
   ]
  },
  {
   "cell_type": "code",
   "execution_count": 2,
   "metadata": {},
   "outputs": [
    {
     "data": {
      "text/html": [
       "<table>\n",
       "<thead><tr><th></th><th scope=col>Count</th><th scope=col>Score</th><th scope=col>Section</th></tr></thead>\n",
       "<tbody>\n",
       "\t<tr><th scope=row>6</th><td>10     </td><td>265    </td><td>Regular</td></tr>\n",
       "\t<tr><th scope=row>7</th><td>10     </td><td>275    </td><td>Regular</td></tr>\n",
       "\t<tr><th scope=row>9</th><td>10     </td><td>295    </td><td>Regular</td></tr>\n",
       "\t<tr><th scope=row>10</th><td>10     </td><td>300    </td><td>Regular</td></tr>\n",
       "\t<tr><th scope=row>13</th><td>10     </td><td>305    </td><td>Regular</td></tr>\n",
       "\t<tr><th scope=row>14</th><td>10     </td><td>310    </td><td>Regular</td></tr>\n",
       "\t<tr><th scope=row>16</th><td>20     </td><td>320    </td><td>Regular</td></tr>\n",
       "\t<tr><th scope=row>17</th><td>10     </td><td>305    </td><td>Regular</td></tr>\n",
       "\t<tr><th scope=row>19</th><td>20     </td><td>320    </td><td>Regular</td></tr>\n",
       "\t<tr><th scope=row>20</th><td>10     </td><td>325    </td><td>Regular</td></tr>\n",
       "\t<tr><th scope=row>22</th><td>20     </td><td>330    </td><td>Regular</td></tr>\n",
       "\t<tr><th scope=row>25</th><td>10     </td><td>335    </td><td>Regular</td></tr>\n",
       "\t<tr><th scope=row>26</th><td>20     </td><td>340    </td><td>Regular</td></tr>\n",
       "\t<tr><th scope=row>28</th><td>30     </td><td>350    </td><td>Regular</td></tr>\n",
       "\t<tr><th scope=row>29</th><td>20     </td><td>360    </td><td>Regular</td></tr>\n",
       "\t<tr><th scope=row>31</th><td>20     </td><td>365    </td><td>Regular</td></tr>\n",
       "\t<tr><th scope=row>34</th><td>10     </td><td>370    </td><td>Regular</td></tr>\n",
       "\t<tr><th scope=row>35</th><td>20     </td><td>375    </td><td>Regular</td></tr>\n",
       "\t<tr><th scope=row>37</th><td>20     </td><td>380    </td><td>Regular</td></tr>\n",
       "</tbody>\n",
       "</table>\n"
      ],
      "text/latex": [
       "\\begin{tabular}{r|lll}\n",
       "  & Count & Score & Section\\\\\n",
       "\\hline\n",
       "\t6 & 10      & 265     & Regular\\\\\n",
       "\t7 & 10      & 275     & Regular\\\\\n",
       "\t9 & 10      & 295     & Regular\\\\\n",
       "\t10 & 10      & 300     & Regular\\\\\n",
       "\t13 & 10      & 305     & Regular\\\\\n",
       "\t14 & 10      & 310     & Regular\\\\\n",
       "\t16 & 20      & 320     & Regular\\\\\n",
       "\t17 & 10      & 305     & Regular\\\\\n",
       "\t19 & 20      & 320     & Regular\\\\\n",
       "\t20 & 10      & 325     & Regular\\\\\n",
       "\t22 & 20      & 330     & Regular\\\\\n",
       "\t25 & 10      & 335     & Regular\\\\\n",
       "\t26 & 20      & 340     & Regular\\\\\n",
       "\t28 & 30      & 350     & Regular\\\\\n",
       "\t29 & 20      & 360     & Regular\\\\\n",
       "\t31 & 20      & 365     & Regular\\\\\n",
       "\t34 & 10      & 370     & Regular\\\\\n",
       "\t35 & 20      & 375     & Regular\\\\\n",
       "\t37 & 20      & 380     & Regular\\\\\n",
       "\\end{tabular}\n"
      ],
      "text/markdown": [
       "\n",
       "| <!--/--> | Count | Score | Section |\n",
       "|---|---|---|---|\n",
       "| 6 | 10      | 265     | Regular |\n",
       "| 7 | 10      | 275     | Regular |\n",
       "| 9 | 10      | 295     | Regular |\n",
       "| 10 | 10      | 300     | Regular |\n",
       "| 13 | 10      | 305     | Regular |\n",
       "| 14 | 10      | 310     | Regular |\n",
       "| 16 | 20      | 320     | Regular |\n",
       "| 17 | 10      | 305     | Regular |\n",
       "| 19 | 20      | 320     | Regular |\n",
       "| 20 | 10      | 325     | Regular |\n",
       "| 22 | 20      | 330     | Regular |\n",
       "| 25 | 10      | 335     | Regular |\n",
       "| 26 | 20      | 340     | Regular |\n",
       "| 28 | 30      | 350     | Regular |\n",
       "| 29 | 20      | 360     | Regular |\n",
       "| 31 | 20      | 365     | Regular |\n",
       "| 34 | 10      | 370     | Regular |\n",
       "| 35 | 20      | 375     | Regular |\n",
       "| 37 | 20      | 380     | Regular |\n",
       "\n"
      ],
      "text/plain": [
       "   Count Score Section\n",
       "6  10    265   Regular\n",
       "7  10    275   Regular\n",
       "9  10    295   Regular\n",
       "10 10    300   Regular\n",
       "13 10    305   Regular\n",
       "14 10    310   Regular\n",
       "16 20    320   Regular\n",
       "17 10    305   Regular\n",
       "19 20    320   Regular\n",
       "20 10    325   Regular\n",
       "22 20    330   Regular\n",
       "25 10    335   Regular\n",
       "26 20    340   Regular\n",
       "28 30    350   Regular\n",
       "29 20    360   Regular\n",
       "31 20    365   Regular\n",
       "34 10    370   Regular\n",
       "35 20    375   Regular\n",
       "37 20    380   Regular"
      ]
     },
     "metadata": {},
     "output_type": "display_data"
    },
    {
     "data": {
      "text/html": [
       "<table>\n",
       "<thead><tr><th></th><th scope=col>Count</th><th scope=col>Score</th><th scope=col>Section</th></tr></thead>\n",
       "<tbody>\n",
       "\t<tr><th scope=row>1</th><td>10    </td><td>200   </td><td>Sports</td></tr>\n",
       "\t<tr><th scope=row>2</th><td>10    </td><td>205   </td><td>Sports</td></tr>\n",
       "\t<tr><th scope=row>3</th><td>20    </td><td>235   </td><td>Sports</td></tr>\n",
       "\t<tr><th scope=row>4</th><td>10    </td><td>240   </td><td>Sports</td></tr>\n",
       "\t<tr><th scope=row>5</th><td>10    </td><td>250   </td><td>Sports</td></tr>\n",
       "\t<tr><th scope=row>8</th><td>30    </td><td>285   </td><td>Sports</td></tr>\n",
       "\t<tr><th scope=row>11</th><td>20    </td><td>300   </td><td>Sports</td></tr>\n",
       "\t<tr><th scope=row>12</th><td>10    </td><td>305   </td><td>Sports</td></tr>\n",
       "\t<tr><th scope=row>15</th><td>10    </td><td>310   </td><td>Sports</td></tr>\n",
       "\t<tr><th scope=row>18</th><td>10    </td><td>315   </td><td>Sports</td></tr>\n",
       "\t<tr><th scope=row>21</th><td>10    </td><td>325   </td><td>Sports</td></tr>\n",
       "\t<tr><th scope=row>23</th><td>10    </td><td>330   </td><td>Sports</td></tr>\n",
       "\t<tr><th scope=row>24</th><td>30    </td><td>335   </td><td>Sports</td></tr>\n",
       "\t<tr><th scope=row>27</th><td>10    </td><td>340   </td><td>Sports</td></tr>\n",
       "\t<tr><th scope=row>30</th><td>10    </td><td>360   </td><td>Sports</td></tr>\n",
       "\t<tr><th scope=row>32</th><td>20    </td><td>365   </td><td>Sports</td></tr>\n",
       "\t<tr><th scope=row>33</th><td>10    </td><td>370   </td><td>Sports</td></tr>\n",
       "\t<tr><th scope=row>36</th><td>10    </td><td>375   </td><td>Sports</td></tr>\n",
       "\t<tr><th scope=row>38</th><td>10    </td><td>395   </td><td>Sports</td></tr>\n",
       "</tbody>\n",
       "</table>\n"
      ],
      "text/latex": [
       "\\begin{tabular}{r|lll}\n",
       "  & Count & Score & Section\\\\\n",
       "\\hline\n",
       "\t1 & 10     & 200    & Sports\\\\\n",
       "\t2 & 10     & 205    & Sports\\\\\n",
       "\t3 & 20     & 235    & Sports\\\\\n",
       "\t4 & 10     & 240    & Sports\\\\\n",
       "\t5 & 10     & 250    & Sports\\\\\n",
       "\t8 & 30     & 285    & Sports\\\\\n",
       "\t11 & 20     & 300    & Sports\\\\\n",
       "\t12 & 10     & 305    & Sports\\\\\n",
       "\t15 & 10     & 310    & Sports\\\\\n",
       "\t18 & 10     & 315    & Sports\\\\\n",
       "\t21 & 10     & 325    & Sports\\\\\n",
       "\t23 & 10     & 330    & Sports\\\\\n",
       "\t24 & 30     & 335    & Sports\\\\\n",
       "\t27 & 10     & 340    & Sports\\\\\n",
       "\t30 & 10     & 360    & Sports\\\\\n",
       "\t32 & 20     & 365    & Sports\\\\\n",
       "\t33 & 10     & 370    & Sports\\\\\n",
       "\t36 & 10     & 375    & Sports\\\\\n",
       "\t38 & 10     & 395    & Sports\\\\\n",
       "\\end{tabular}\n"
      ],
      "text/markdown": [
       "\n",
       "| <!--/--> | Count | Score | Section |\n",
       "|---|---|---|---|\n",
       "| 1 | 10     | 200    | Sports |\n",
       "| 2 | 10     | 205    | Sports |\n",
       "| 3 | 20     | 235    | Sports |\n",
       "| 4 | 10     | 240    | Sports |\n",
       "| 5 | 10     | 250    | Sports |\n",
       "| 8 | 30     | 285    | Sports |\n",
       "| 11 | 20     | 300    | Sports |\n",
       "| 12 | 10     | 305    | Sports |\n",
       "| 15 | 10     | 310    | Sports |\n",
       "| 18 | 10     | 315    | Sports |\n",
       "| 21 | 10     | 325    | Sports |\n",
       "| 23 | 10     | 330    | Sports |\n",
       "| 24 | 30     | 335    | Sports |\n",
       "| 27 | 10     | 340    | Sports |\n",
       "| 30 | 10     | 360    | Sports |\n",
       "| 32 | 20     | 365    | Sports |\n",
       "| 33 | 10     | 370    | Sports |\n",
       "| 36 | 10     | 375    | Sports |\n",
       "| 38 | 10     | 395    | Sports |\n",
       "\n"
      ],
      "text/plain": [
       "   Count Score Section\n",
       "1  10    200   Sports \n",
       "2  10    205   Sports \n",
       "3  20    235   Sports \n",
       "4  10    240   Sports \n",
       "5  10    250   Sports \n",
       "8  30    285   Sports \n",
       "11 20    300   Sports \n",
       "12 10    305   Sports \n",
       "15 10    310   Sports \n",
       "18 10    315   Sports \n",
       "21 10    325   Sports \n",
       "23 10    330   Sports \n",
       "24 30    335   Sports \n",
       "27 10    340   Sports \n",
       "30 10    360   Sports \n",
       "32 20    365   Sports \n",
       "33 10    370   Sports \n",
       "36 10    375   Sports \n",
       "38 10    395   Sports "
      ]
     },
     "metadata": {},
     "output_type": "display_data"
    }
   ],
   "source": [
    "Regular_df <- subset(test_scores, Section == 'Regular')\n",
    "Sports_df <- subset(test_scores, Section == 'Sports')\n",
    "\n",
    "Regular_df\n",
    "Sports_df"
   ]
  },
  {
   "cell_type": "markdown",
   "metadata": {},
   "source": [
    "4. Use the Plot function to plot each Sections scores and the number of students achieving that score. Use additional Plot Arguments to label the graph and give each axis an appropriate label. Once you have produced your Plots answer the following questions:"
   ]
  },
  {
   "cell_type": "code",
   "execution_count": 3,
   "metadata": {},
   "outputs": [
    {
     "name": "stderr",
     "output_type": "stream",
     "text": [
      "Warning message:\n",
      "\"Removed 4 rows containing missing values (geom_bar).\""
     ]
    },
    {
     "data": {
      "image/png": "[encoded data removed]",
      "text/plain": [
       "plot without title"
      ]
     },
     "metadata": {},
     "output_type": "display_data"
    }
   ],
   "source": [
    "ggplot(test_scores, aes(x=Score, fill=Section)) + geom_histogram(bins = 30) + xlim(150,400) "
   ]
  },
  {
   "cell_type": "code",
   "execution_count": 4,
   "metadata": {},
   "outputs": [
    {
     "name": "stderr",
     "output_type": "stream",
     "text": [
      "`geom_smooth()` using method = 'loess' and formula 'y ~ x'\n"
     ]
    },
    {
     "data": {
      "image/png": "[encoded data removed]",
      "text/plain": [
       "plot without title"
      ]
     },
     "metadata": {},
     "output_type": "display_data"
    }
   ],
   "source": [
    "ggplot(Regular_df, aes(x=Score, y=Count), ) + geom_point() + geom_smooth() + ggtitle(\"REGULAR SECTION SCORES\") +ylab(\"Number of Students\")"
   ]
  },
  {
   "cell_type": "code",
   "execution_count": 5,
   "metadata": {},
   "outputs": [
    {
     "name": "stderr",
     "output_type": "stream",
     "text": [
      "`geom_smooth()` using method = 'loess' and formula 'y ~ x'\n"
     ]
    },
    {
     "data": {
      "image/png": "[encoded data removed]",
      "text/plain": [
       "plot without title"
      ]
     },
     "metadata": {},
     "output_type": "display_data"
    }
   ],
   "source": [
    "ggplot(Sports_df, aes(x=Score, y=Count), ) + geom_point() + geom_smooth() + ggtitle(\"SPORTS SECTION SCORES\") +ylab(\"Number of Students\")"
   ]
  },
  {
   "cell_type": "markdown",
   "metadata": {},
   "source": [
    "a. Comparing and contrasting the point distributions between the two section, looking at both tendency and consistency: Can you say that one section tended to score more points than the other? Justify and explain your answer.\n",
    "    \n",
    "    ANSWER: The \"Regular\" students seemed to perform better than the \"Sports\" students based on the minimum score. However, the \"Sports\" students were more consistent, which could be  due to the larger number of \"Sports\" students."
   ]
  },
  {
   "cell_type": "markdown",
   "metadata": {},
   "source": [
    "b. Did every student in one section score more points than every student in the other section? If not, explain what a statistical tendency means in this context.\n",
    "\n",
    "    ANSWER: Yes. The \"Regular\" students had a minimum score of 265. In contrast the \"Sports\" students had a minimum score of 200"
   ]
  },
  {
   "cell_type": "markdown",
   "metadata": {},
   "source": [
    "c. What could be one additional variable that was not mentioned in the narrative that could be influencing the point distributions between the two sections?\n",
    "\n",
    "    ANSWER: Advertisement. The \"Sports\" course was advertised which increased participation. The \"Regular\" course students had less upfront information. It could be inferred that students who may not be really interested in general statistics would be attracted by the sports aspect of the course. "
   ]
  }
 ],
 "metadata": {
  "kernelspec": {
   "display_name": "R",
   "language": "R",
   "name": "ir"
  },
  "language_info": {
   "codemirror_mode": "r",
   "file_extension": ".r",
   "mimetype": "text/x-r-source",
   "name": "R",
   "pygments_lexer": "r",
   "version": "3.6.1"
  }
 },
 "nbformat": 4,
 "nbformat_minor": 4
}
