{
 "cells": [
  {
   "cell_type": "markdown",
   "metadata": {},
   "source": [
    "Assignment: ASSIGNMENT 4\n",
    "Name: Leonard, DeBoris\n",
    "Date: 2020-09-16"
   ]
  },
  {
   "cell_type": "code",
   "execution_count": 46,
   "metadata": {},
   "outputs": [
    {
     "name": "stderr",
     "output_type": "stream",
     "text": [
      "Warning message:\n",
      "\"package 'Rcmdr' was built under R version 3.6.3\"Loading required package: splines\n",
      "Loading required package: RcmdrMisc\n",
      "Warning message:\n",
      "\"package 'RcmdrMisc' was built under R version 3.6.3\"Loading required package: sandwich\n",
      "Warning message:\n",
      "\"package 'sandwich' was built under R version 3.6.3\"Loading required package: effects\n",
      "Warning message:\n",
      "\"package 'effects' was built under R version 3.6.3\"Registered S3 methods overwritten by 'lme4':\n",
      "  method                          from\n",
      "  cooks.distance.influence.merMod car \n",
      "  influence.merMod                car \n",
      "  dfbeta.influence.merMod         car \n",
      "  dfbetas.influence.merMod        car \n",
      "Error: package or namespace load failed for 'effects' in loadNamespace(j <- i[[1L]], c(lib.loc, .libPaths()), versionCheck = vI[[j]]):\n",
      " there is no package called 'insight'\n"
     ]
    },
    {
     "ename": "ERROR",
     "evalue": "Error: package 'effects' could not be loaded\n",
     "output_type": "error",
     "traceback": [
      "Error: package 'effects' could not be loaded\nTraceback:\n",
      "1. library(Rcmdr)",
      "2. .getRequiredPackages2(pkgInfo, quietly = quietly)",
      "3. stop(gettextf(\"package %s could not be loaded\", sQuote(pkg)), \n .     call. = FALSE, domain = NA)"
     ]
    }
   ],
   "source": [
    "library(ggplot2)\n",
    "library(car)\n",
    "library(pastecs)\n",
    "library(psych)\n",
    "library(Rcmdr)\n",
    "theme_set(theme_minimal())\n",
    "\n",
    "setwd(\"C:/Users/debor/Documents/GitHub/dsc520\")\n",
    "acs_df <- read.csv(\"data/acs-14-1yr-s0201.csv\")"
   ]
  },
  {
   "cell_type": "markdown",
   "metadata": {},
   "source": [
    "1. What are the elements in your data (including the categories and data types)?\n",
    "    ANSWER:Id - numeric(int)\n",
    "           Id2 - numeric(int)\n",
    "           Geography - character(char)\n",
    "           PopGroupID - numeric(int)\n",
    "           POPGROUP.display-label - character(char)\n",
    "           RacesReported - numeric(int)\n",
    "           HSDegree - numeric(float)\n",
    "           BachDegree - numeric(float)\n",
    "           "
   ]
  },
  {
   "cell_type": "markdown",
   "metadata": {},
   "source": [
    "2. Please provide the output from the following functions: str(); nrow(); ncol()"
   ]
  },
  {
   "cell_type": "code",
   "execution_count": 11,
   "metadata": {},
   "outputs": [
    {
     "name": "stdout",
     "output_type": "stream",
     "text": [
      "'data.frame':\t136 obs. of  8 variables:\n",
      " $ Id                    : Factor w/ 136 levels \"0500000US01073\",..: 1 2 3 4 5 6 7 8 9 10 ...\n",
      " $ Id2                   : int  1073 4013 4019 6001 6013 6019 6029 6037 6059 6065 ...\n",
      " $ Geography             : Factor w/ 136 levels \"Alameda County, California\",..: 56 70 98 1 20 43 62 68 92 106 ...\n",
      " $ PopGroupID            : int  1 1 1 1 1 1 1 1 1 1 ...\n",
      " $ POPGROUP.display.label: Factor w/ 1 level \"Total population\": 1 1 1 1 1 1 1 1 1 1 ...\n",
      " $ RacesReported         : int  660793 4087191 1004516 1610921 1111339 965974 874589 10116705 3145515 2329271 ...\n",
      " $ HSDegree              : num  89.1 86.8 88 86.9 88.8 73.6 74.5 77.5 84.6 80.6 ...\n",
      " $ BachDegree            : num  30.5 30.2 30.8 42.8 39.7 19.7 15.4 30.3 38 20.7 ...\n"
     ]
    },
    {
     "data": {
      "text/html": [
       "136"
      ],
      "text/latex": [
       "136"
      ],
      "text/markdown": [
       "136"
      ],
      "text/plain": [
       "[1] 136"
      ]
     },
     "metadata": {},
     "output_type": "display_data"
    },
    {
     "data": {
      "text/html": [
       "8"
      ],
      "text/latex": [
       "8"
      ],
      "text/markdown": [
       "8"
      ],
      "text/plain": [
       "[1] 8"
      ]
     },
     "metadata": {},
     "output_type": "display_data"
    }
   ],
   "source": [
    "str(acs_df)\n",
    "nrow(acs_df)\n",
    "ncol(acs_df)"
   ]
  },
  {
   "cell_type": "markdown",
   "metadata": {},
   "source": [
    "3. Create a Histogram of the HSDegree variable using the ggplot2 package.\n",
    "    a. Set a bin size for the Histogram.\n",
    "    b. Include a Title and appropriate X/Y axis labels on your Histogram Plot."
   ]
  },
  {
   "cell_type": "code",
   "execution_count": 12,
   "metadata": {},
   "outputs": [
    {
     "name": "stderr",
     "output_type": "stream",
     "text": [
      "Warning message:\n",
      "\"Ignoring unknown parameters: bin\"`stat_bin()` using `bins = 30`. Pick better value with `binwidth`.\n"
     ]
    },
    {
     "data": {
      "image/png": "[encoded data removed]",
      "text/plain": [
       "plot without title"
      ]
     },
     "metadata": {},
     "output_type": "display_data"
    }
   ],
   "source": [
    "ggplot(acs_df, aes(HSDegree)) + geom_histogram(bin=30) + ggtitle('National High School Degree') + xlab('HS Degree Percent') + ylab('Number by County')"
   ]
  },
  {
   "cell_type": "markdown",
   "metadata": {},
   "source": [
    "4. Answer the following questions based on the Histogram produced:\n",
    "\n",
    "    a. Based on what you see in this histogram, is the data distribution unimodal?\n",
    "        ANSWER: Yes, there is one defined peak\n",
    "\n",
    "    b. Is it approximately symmetrical?\n",
    "        ANSWER: No\n",
    "\n",
    "    c. Is it approximately bell-shaped?\n",
    "        ANSWER: No\n",
    "    d. Is it approximately normal?\n",
    "        ANSWER: No\n",
    "\n",
    "    e. If not normal, is the distribution skewed? If so, in which direction?\n",
    "        ANSWER: Yes. It is is skewed left\n",
    "\n",
    "    f. Include a normal curve to the Histogram that you plotted.\n"
   ]
  },
  {
   "cell_type": "code",
   "execution_count": 49,
   "metadata": {},
   "outputs": [
    {
     "ename": "ERROR",
     "evalue": "Error in mean(HSDegree): object 'HSDegree' not found\n",
     "output_type": "error",
     "traceback": [
      "Error in mean(HSDegree): object 'HSDegree' not found\nTraceback:\n",
      "1. stat_function(fun = dnorm, mean = mean(HSDegree), sd = sd(HSDegree))",
      "2. layer(data = data, mapping = mapping, stat = StatFunction, geom = geom, \n .     position = position, show.legend = show.legend, inherit.aes = inherit.aes, \n .     params = list(fun = fun, n = n, args = args, na.rm = na.rm, \n .         xlim = xlim, ...))",
      "3. mean(HSDegree)"
     ]
    }
   ],
   "source": [
    "HSD <- ggplot(acs_df, aes(HSDegree)) + geom_histogram(aes(..density..), color = 'black', fill = 'red') + ggtitle('National High School Degree') + xlab('HS Degree Percent') + ylab('Number by County') + stat_function(fun = dnorm, mean = mean(HSDegree), sd = sd(HSDegree))\n",
    "HSD                    \n",
    "                    \n",
    " #I COULD NOT FIGURE OUT HOW TO DO THIS ONE. COULD YOU PLEASE PROVIDE AN EXAMPLE ONCE GRADED?#                   "
   ]
  },
  {
   "cell_type": "code",
   "execution_count": null,
   "metadata": {},
   "outputs": [],
   "source": []
  },
  {
   "cell_type": "markdown",
   "metadata": {},
   "source": [
    "     g. Explain whether a normal distribution can accurately be used as a model for this data"
   ]
  },
  {
   "cell_type": "markdown",
   "metadata": {},
   "source": [
    "5. Create a Probability Plot of the HSDegree variable."
   ]
  },
  {
   "cell_type": "code",
   "execution_count": 26,
   "metadata": {},
   "outputs": [
    {
     "data": {
      "image/png": "[encoded data removed]",
      "text/plain": [
       "plot without title"
      ]
     },
     "metadata": {},
     "output_type": "display_data"
    }
   ],
   "source": [
    "ggplot(acs_df, aes(HSDegree)) +  geom_density()"
   ]
  },
  {
   "cell_type": "markdown",
   "metadata": {},
   "source": [
    "6. Answer the following questions based on the Probability Plot:\n",
    "\n",
    "    a. Based on what you see in this probability plot, is the distribution approximately normal? Explain how you know.\n",
    "        ANSWER: No. The curve is not symetric\n",
    "\n",
    "    b. If not normal, is the distribution skewed? If so, in which direction? Explain how you know.\n",
    "        ANSWER: The distribution is scewed left because its tail is longer on the left side"
   ]
  },
  {
   "cell_type": "code",
   "execution_count": null,
   "metadata": {},
   "outputs": [],
   "source": [
    "7. Now that you have looked at this data visually for normality, you will now quantify normality with numbers using the stat.desc() function. Include a screen capture of the results produced."
   ]
  },
  {
   "cell_type": "code",
   "execution_count": 54,
   "metadata": {},
   "outputs": [
    {
     "data": {
      "text/html": [
       "<dl class=dl-horizontal>\n",
       "\t<dt>nbr.val</dt>\n",
       "\t\t<dd>136</dd>\n",
       "\t<dt>nbr.null</dt>\n",
       "\t\t<dd>0</dd>\n",
       "\t<dt>nbr.na</dt>\n",
       "\t\t<dd>0</dd>\n",
       "\t<dt>min</dt>\n",
       "\t\t<dd>62.2</dd>\n",
       "\t<dt>max</dt>\n",
       "\t\t<dd>95.5</dd>\n",
       "\t<dt>range</dt>\n",
       "\t\t<dd>33.3</dd>\n",
       "\t<dt>sum</dt>\n",
       "\t\t<dd>11918</dd>\n",
       "\t<dt>median</dt>\n",
       "\t\t<dd>88.7</dd>\n",
       "\t<dt>mean</dt>\n",
       "\t\t<dd>87.6323529411765</dd>\n",
       "\t<dt>SE.mean</dt>\n",
       "\t\t<dd>0.438859785193231</dd>\n",
       "\t<dt>CI.mean.0.95</dt>\n",
       "\t\t<dd>0.867929607967526</dd>\n",
       "\t<dt>var</dt>\n",
       "\t\t<dd>26.1933159041394</dd>\n",
       "\t<dt>std.dev</dt>\n",
       "\t\t<dd>5.11794059208774</dd>\n",
       "\t<dt>coef.var</dt>\n",
       "\t\t<dd>0.0584024098442636</dd>\n",
       "</dl>\n"
      ],
      "text/latex": [
       "\\begin{description*}\n",
       "\\item[nbr.val] 136\n",
       "\\item[nbr.null] 0\n",
       "\\item[nbr.na] 0\n",
       "\\item[min] 62.2\n",
       "\\item[max] 95.5\n",
       "\\item[range] 33.3\n",
       "\\item[sum] 11918\n",
       "\\item[median] 88.7\n",
       "\\item[mean] 87.6323529411765\n",
       "\\item[SE.mean] 0.438859785193231\n",
       "\\item[CI.mean.0.95] 0.867929607967526\n",
       "\\item[var] 26.1933159041394\n",
       "\\item[std.dev] 5.11794059208774\n",
       "\\item[coef.var] 0.0584024098442636\n",
       "\\end{description*}\n"
      ],
      "text/markdown": [
       "nbr.val\n",
       ":   136nbr.null\n",
       ":   0nbr.na\n",
       ":   0min\n",
       ":   62.2max\n",
       ":   95.5range\n",
       ":   33.3sum\n",
       ":   11918median\n",
       ":   88.7mean\n",
       ":   87.6323529411765SE.mean\n",
       ":   0.438859785193231CI.mean.0.95\n",
       ":   0.867929607967526var\n",
       ":   26.1933159041394std.dev\n",
       ":   5.11794059208774coef.var\n",
       ":   0.0584024098442636\n",
       "\n"
      ],
      "text/plain": [
       "     nbr.val     nbr.null       nbr.na          min          max        range \n",
       "1.360000e+02 0.000000e+00 0.000000e+00 6.220000e+01 9.550000e+01 3.330000e+01 \n",
       "         sum       median         mean      SE.mean CI.mean.0.95          var \n",
       "1.191800e+04 8.870000e+01 8.763235e+01 4.388598e-01 8.679296e-01 2.619332e+01 \n",
       "     std.dev     coef.var \n",
       "5.117941e+00 5.840241e-02 "
      ]
     },
     "metadata": {},
     "output_type": "display_data"
    }
   ],
   "source": [
    "stat.desc(acs_df$HSDegree, basic = TRUE, norm = FALSE) "
   ]
  },
  {
   "cell_type": "markdown",
   "metadata": {},
   "source": [
    "8. In several sentences provide an explanation of the result produced for skew, kurtosis, and z-scores. In addition, explain how a change in the sample size may change your explanation?\n"
   ]
  },
  {
   "cell_type": "code",
   "execution_count": 52,
   "metadata": {},
   "outputs": [],
   "source": [
    "# No excuse I got behind this week and am sturggling with these concepts. I will request time to discuss and review with you."
   ]
  },
  {
   "cell_type": "code",
   "execution_count": null,
   "metadata": {},
   "outputs": [],
   "source": []
  }
 ],
 "metadata": {
  "kernelspec": {
   "display_name": "R",
   "language": "R",
   "name": "ir"
  },
  "language_info": {
   "codemirror_mode": "r",
   "file_extension": ".r",
   "mimetype": "text/x-r-source",
   "name": "R",
   "pygments_lexer": "r",
   "version": "3.6.1"
  }
 },
 "nbformat": 4,
 "nbformat_minor": 4
}
